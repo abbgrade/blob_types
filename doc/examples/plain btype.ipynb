{
 "metadata": {
  "name": ""
 },
 "nbformat": 3,
 "nbformat_minor": 0,
 "worksheets": [
  {
   "cells": [
    {
     "cell_type": "markdown",
     "metadata": {},
     "source": [
      "Import the packages to test if everything is installed."
     ]
    },
    {
     "cell_type": "code",
     "collapsed": false,
     "input": [
      "import blob_types\n",
      "from blob_types import *\n",
      "import numpy\n",
      "blob_types.__version__"
     ],
     "language": "python",
     "metadata": {},
     "outputs": []
    },
    {
     "cell_type": "markdown",
     "metadata": {},
     "source": [
      "Define a type and create a test instance."
     ]
    },
    {
     "cell_type": "code",
     "collapsed": false,
     "input": [
      "class Vector3(Blob):\n",
      "    \n",
      "    dtype, subtypes = Blob.create_plain_dtype(\n",
      "        ('x', numpy.float32),\n",
      "        ('y', numpy.float32),\n",
      "        ('z', numpy.float32)\n",
      "    )\n",
      "    \n",
      "    def __repr__(self):\n",
      "        return 'This object is based on %s = %s, with a %s of %d bytes.' % (\n",
      "            type(self.blob), \n",
      "            repr(self.blob), \n",
      "            type(self.blob.data), \n",
      "            len(self.blob.data)\n",
      "        )\n",
      "\n",
      "Vector3(x=1, y=2, z=3)"
     ],
     "language": "python",
     "metadata": {},
     "outputs": []
    },
    {
     "cell_type": "markdown",
     "metadata": {},
     "source": [
      "Create simple nested type."
     ]
    },
    {
     "cell_type": "code",
     "collapsed": false,
     "input": [
      "class Matrix3x3(Blob):\n",
      "    \n",
      "    dtype, subtypes = Blob.create_plain_dtype(\n",
      "        ('x', Vector3),\n",
      "        ('y', Vector3),\n",
      "        ('z', Vector3)\n",
      "    )\n",
      "    \n",
      "    def __repr__(self):\n",
      "        return 'This object is based on %s = %s, with a %s of %d bytes.' % (\n",
      "            type(self.blob), \n",
      "            repr(self.blob), \n",
      "            type(self.blob.data), \n",
      "            len(self.blob.data)\n",
      "        )\n",
      "    \n",
      "Matrix3x3.from_struct(\n",
      "    {\n",
      "        'x':{'x':1, 'y':0, 'z':0},\n",
      "        'y':{'x':0, 'y':1, 'z':0},\n",
      "        'z':{'x':0, 'y':0, 'z':1}\n",
      "    }\n",
      ")"
     ],
     "language": "python",
     "metadata": {},
     "outputs": []
    },
    {
     "cell_type": "markdown",
     "metadata": {},
     "source": [
      "Generate the C functions to work with the data."
     ]
    },
    {
     "cell_type": "code",
     "collapsed": false,
     "input": [
      "import pyopencl\n",
      "import pyopencl.tools\n",
      "pyopencl.create_some_context(False)\n",
      "pyopencl.tools.get_or_register_dtype(BlobLib.get_interface(Matrix3x3).get_name('global'), Matrix3x3.dtype)\n",
      "\n",
      "vector_lib = BlobLib(required_global_blob_types=[Matrix3x3])"
     ],
     "language": "python",
     "metadata": {},
     "outputs": []
    },
    {
     "cell_type": "markdown",
     "metadata": {},
     "source": [
      "Thats everything you need to work with the blobs.\n",
      "\n",
      "    with open('vector_lib.h', 'wb') as fh:\n",
      "        fh.write(vector_lib.header_code)\n",
      "        \n",
      "    with open('vector_lib.cl', 'wb') as fh:\n",
      "        fh.write(vector_lib.source_code)"
     ]
    },
    {
     "cell_type": "code",
     "collapsed": false,
     "input": [
      "print '/* content of vector_lib.h */'\n",
      "print vector_lib.header_code"
     ],
     "language": "python",
     "metadata": {},
     "outputs": []
    },
    {
     "cell_type": "code",
     "collapsed": false,
     "input": [
      "print '/* content of vector_lib.cl */'\n",
      "print vector_lib.source_code"
     ],
     "language": "python",
     "metadata": {},
     "outputs": []
    },
    {
     "cell_type": "code",
     "collapsed": false,
     "input": [],
     "language": "python",
     "metadata": {},
     "outputs": []
    }
   ],
   "metadata": {}
  }
 ]
}